{
 "cells": [
  {
   "cell_type": "code",
   "execution_count": 2,
   "metadata": {},
   "outputs": [
    {
     "name": "stdout",
     "output_type": "stream",
     "text": [
      " * Serving Flask app \"__main__\" (lazy loading)\n",
      " * Environment: production\n",
      "   WARNING: This is a development server. Do not use it in a production deployment.\n",
      "   Use a production WSGI server instead.\n",
      " * Debug mode: on\n"
     ]
    },
    {
     "name": "stderr",
     "output_type": "stream",
     "text": [
      " * Restarting with windowsapi reloader\n"
     ]
    },
    {
     "ename": "SystemExit",
     "evalue": "1",
     "output_type": "error",
     "traceback": [
      "An exception has occurred, use %tb to see the full traceback.\n",
      "\u001b[1;31mSystemExit\u001b[0m\u001b[1;31m:\u001b[0m 1\n"
     ]
    },
    {
     "name": "stderr",
     "output_type": "stream",
     "text": [
      "C:\\Users\\cyril\\Anaconda3\\lib\\site-packages\\IPython\\core\\interactiveshell.py:3426: UserWarning: To exit: use 'exit', 'quit', or Ctrl-D.\n",
      "  warn(\"To exit: use 'exit', 'quit', or Ctrl-D.\", stacklevel=1)\n"
     ]
    }
   ],
   "source": [
    "from flask import Flask, render_template, jsonify\n",
    "import json\n",
    "import requests\n",
    "\n",
    "app = Flask(__name__)\n",
    "METEO_API_KEY = None\n",
    "\n",
    "if METEO_API_KEY is None:\n",
    "    # URL de test :\n",
    "    METEO_API_URL = \"https://samples.openweathermap.org/data/2.5/forecast?lat=0&lon=0&appid=xxx\"\n",
    "else: \n",
    "    # URL avec clé :\n",
    "    METEO_API_URL = \"https://api.openweathermap.org/data/2.5/forecast?lat=48.883587&lon=2.333779&appid=\" + METEO_API_KEY\n",
    "    \n",
    "@app.route('/')\n",
    "def index():\n",
    "    return \"Hello world !\"\n",
    "\n",
    "@app.route('/dashboard/')\n",
    "def dashboard():\n",
    "        return render_template(\"dashboard.html\")\n",
    "    \n",
    "@app.route('/api/meteo/')\n",
    "def meteo():\n",
    "    response = requests.get(METEO_API_URL)\n",
    "    content = json.loads(response.content.decode('utf-8'))\n",
    "\n",
    "    if response.status_code != 200:\n",
    "        return jsonify({\n",
    "            'status': 'error',\n",
    "            'message': 'La requête à l\\'API météo n\\'a pas fonctionné. Voici le message renvoyé par l\\'API : {}'.format(content['message'])\n",
    "        }), 500\n",
    "\n",
    "    data = [] # On initialise une liste vide\n",
    "    for prev in content[\"list\"]:\n",
    "        datetime = prev['dt'] * 1000\n",
    "        temperature = prev['main']['temp'] - 273.15 # Conversion de Kelvin en °c\n",
    "        temperature = round(temperature, 2)\n",
    "        data.append([datetime, temperature])\n",
    " \n",
    "    return jsonify({\n",
    "      'status': 'ok', \n",
    "      'data': data\n",
    "    })\n",
    "\n",
    "if __name__ == \"__main__\":\n",
    "    app.run(debug=True)"
   ]
  },
  {
   "cell_type": "code",
   "execution_count": null,
   "metadata": {},
   "outputs": [],
   "source": []
  }
 ],
 "metadata": {
  "kernelspec": {
   "display_name": "Python 3",
   "language": "python",
   "name": "python3"
  }
 },
 "nbformat": 4,
 "nbformat_minor": 4
}
